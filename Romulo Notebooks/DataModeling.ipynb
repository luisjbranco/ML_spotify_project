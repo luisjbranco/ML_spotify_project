{
 "cells": [
  {
   "cell_type": "code",
   "execution_count": 106,
   "metadata": {},
   "outputs": [],
   "source": [
    "import pandas as pd\n",
    "import numpy as np\n",
    "import os\n",
    "from sklearn import linear_model\n",
    "from sklearn.tree import DecisionTreeRegressor\n",
    "from sklearn.ensemble import RandomForestRegressor\n",
    "from sklearn.model_selection import train_test_split, GridSearchCV\n",
    "from sklearn.metrics import mean_absolute_error, mean_squared_error, r2_score"
   ]
  },
  {
   "cell_type": "code",
   "execution_count": 2,
   "metadata": {},
   "outputs": [],
   "source": [
    "# spark = SparkSession.builder \\\n",
    "#     .master(\"local[1]\") \\\n",
    "#     .appName(\"SparkApp\") \\\n",
    "#     .getOrCreate()"
   ]
  },
  {
   "cell_type": "code",
   "execution_count": 3,
   "metadata": {},
   "outputs": [
    {
     "name": "stderr",
     "output_type": "stream",
     "text": [
      "/opt/anaconda3/lib/python3.7/site-packages/IPython/core/interactiveshell.py:3063: DtypeWarning: Columns (0,205,209,217,229,245) have mixed types.Specify dtype option on import or set low_memory=False.\n",
      "  interactivity=interactivity, compiler=compiler, result=result)\n"
     ]
    }
   ],
   "source": [
    "if os.getcwd().split(\"/\")[-1] != \"FeaturesExtracted\":\n",
    "    if os.getcwd().split(\"/\")[-1] == \"DataSources\":\n",
    "        os.chdir(\"../../SpotGenTrack/FeaturesExtracted\")\n",
    "    else:\n",
    "        os.chdir(\"SpotGenTrack/FeaturesExtracted\")\n",
    "\n",
    "finalDF = pd.read_csv(\"final_df.csv\")"
   ]
  },
  {
   "cell_type": "code",
   "execution_count": 45,
   "metadata": {},
   "outputs": [
    {
     "name": "stdout",
     "output_type": "stream",
     "text": [
      "Before drop NaN: (101939, 9)\n",
      "After drop NaN: (74959, 9)\n"
     ]
    },
    {
     "name": "stderr",
     "output_type": "stream",
     "text": [
      "/opt/anaconda3/lib/python3.7/site-packages/ipykernel_launcher.py:15: SettingWithCopyWarning: \n",
      "A value is trying to be set on a copy of a slice from a DataFrame\n",
      "\n",
      "See the caveats in the documentation: https://pandas.pydata.org/pandas-docs/stable/user_guide/indexing.html#returning-a-view-versus-a-copy\n",
      "  from ipykernel import kernelapp as app\n"
     ]
    }
   ],
   "source": [
    "selected_features_with_popularity = [\"acousticness\", \"artist_popularity\", \"duration_ms\", \"energy\", \n",
    "                     \"entropy_energy\", \"followers\", \"loudness\", \"speechiness\", \"popularity\"]\n",
    "\n",
    "selected_features_with_popularity_alt = [\"artist_popularity\", \"entropy_energy\", \"followers\", \n",
    "                                         \"loudness\", \"speechiness\", \"popularity\"]\n",
    "\n",
    "selected_features_no_popularity = [\"acousticness\", \"artist_popularity\", \"duration_ms\", \"energy\", \n",
    "                     \"entropy_energy\", \"followers\", \"loudness\", \"speechiness\"]\n",
    "\n",
    "selected_features_no_popularity_alt = [\"artist_popularity\", \"entropy_energy\", \"followers\", \n",
    "                                         \"loudness\", \"speechiness\"]\n",
    "\n",
    "splittingDF = finalDF[selected_features_with_popularity]\n",
    "print(f\"Before drop NaN: {splittingDF.shape}\")\n",
    "splittingDF.dropna(inplace=True)\n",
    "print(f\"After drop NaN: {splittingDF.shape}\")\n",
    "train, test = train_test_split(splittingDF)"
   ]
  },
  {
   "cell_type": "code",
   "execution_count": 47,
   "metadata": {},
   "outputs": [],
   "source": [
    "X_train = train[selected_features_no_popularity][:20000]\n",
    "X_test = test[selected_features_no_popularity][:4000]\n",
    "y_train = train[\"popularity\"][:20000]\n",
    "y_test = test[\"popularity\"][:4000]"
   ]
  },
  {
   "cell_type": "code",
   "execution_count": 133,
   "metadata": {},
   "outputs": [],
   "source": [
    "def train_test_model(X_train, X_test, y_train, y_test, model=\"Linear Regression\"):\n",
    "    if model == \"Linear Regression\":\n",
    "        clf = linear_model.LinearRegression()\n",
    "        clf.fit(X_train, y_train)\n",
    "    elif model == \"Decision Tree Regression\": \n",
    "        parameters = {'max_depth':[3, 5, 8, 10, 13, 15]}\n",
    "        \n",
    "        dtr = DecisionTreeRegressor()\n",
    "        clf = GridSearchCV(dtr, parameters, scoring = \"r2\")\n",
    "        clf.fit(X_train, y_train)\n",
    "    elif model == \"Random Forest Regression\":\n",
    "        parameters = {'max_depth':[3, 5, 8, 10, 13, 15]}\n",
    "        \n",
    "        rfr = RandomForestRegressor()\n",
    "        clf = GridSearchCV(rfr, parameters, scoring = \"r2\")\n",
    "        clf.fit(X_train, y_train)\n",
    "        \n",
    "    y_pred = clf.predict(X_test)\n",
    "    \n",
    "    print(f\"MAE for {model}: {mean_absolute_error(y_test, y_pred)}\")\n",
    "    print(f\"MSE for {model}: {mean_squared_error(y_test, y_pred)}\")\n",
    "    print(f\"Rˆ2 for {model}: {r2_score(y_test, y_pred)}\")\n",
    "    \n",
    "    return clf"
   ]
  },
  {
   "cell_type": "code",
   "execution_count": 134,
   "metadata": {},
   "outputs": [
    {
     "name": "stdout",
     "output_type": "stream",
     "text": [
      "MAE for Linear Regression: 8.862932881888723\n",
      "MSE for Linear Regression: 131.6172252663196\n",
      "Rˆ2 for Linear Regression: 0.4711263309877963\n"
     ]
    },
    {
     "data": {
      "text/plain": [
       "LinearRegression(copy_X=True, fit_intercept=True, n_jobs=None, normalize=False)"
      ]
     },
     "execution_count": 134,
     "metadata": {},
     "output_type": "execute_result"
    }
   ],
   "source": [
    "train_test_model(X_train, X_test, y_train, y_test)"
   ]
  },
  {
   "cell_type": "code",
   "execution_count": 137,
   "metadata": {},
   "outputs": [
    {
     "name": "stdout",
     "output_type": "stream",
     "text": [
      "MAE for Decision Tree Regression: 8.224714656322481\n",
      "MSE for Decision Tree Regression: 113.3867405058904\n",
      "Rˆ2 for Decision Tree Regression: 0.5443813577793883\n"
     ]
    }
   ],
   "source": [
    "model_dtr = train_test_model(X_train, X_test, y_train, y_test, \"Decision Tree Regression\")"
   ]
  },
  {
   "cell_type": "code",
   "execution_count": 139,
   "metadata": {},
   "outputs": [
    {
     "name": "stdout",
     "output_type": "stream",
     "text": [
      "MAE for Random Forest Regression: 8.01864744484889\n",
      "MSE for Random Forest Regression: 107.76830323831679\n",
      "Rˆ2 for Random Forest Regression: 0.5669577608740746\n"
     ]
    }
   ],
   "source": [
    "model_rfr = train_test_model(X_train, X_test, y_train, y_test, \"Random Forest Regression\")"
   ]
  },
  {
   "cell_type": "code",
   "execution_count": 138,
   "metadata": {},
   "outputs": [
    {
     "data": {
      "text/plain": [
       "DecisionTreeRegressor(ccp_alpha=0.0, criterion='mse', max_depth=8,\n",
       "                      max_features=None, max_leaf_nodes=None,\n",
       "                      min_impurity_decrease=0.0, min_impurity_split=None,\n",
       "                      min_samples_leaf=1, min_samples_split=2,\n",
       "                      min_weight_fraction_leaf=0.0, presort='deprecated',\n",
       "                      random_state=None, splitter='best')"
      ]
     },
     "execution_count": 138,
     "metadata": {},
     "output_type": "execute_result"
    }
   ],
   "source": [
    "model_dtr.best_estimator_"
   ]
  },
  {
   "cell_type": "code",
   "execution_count": 140,
   "metadata": {},
   "outputs": [
    {
     "data": {
      "text/plain": [
       "RandomForestRegressor(bootstrap=True, ccp_alpha=0.0, criterion='mse',\n",
       "                      max_depth=10, max_features='auto', max_leaf_nodes=None,\n",
       "                      max_samples=None, min_impurity_decrease=0.0,\n",
       "                      min_impurity_split=None, min_samples_leaf=1,\n",
       "                      min_samples_split=2, min_weight_fraction_leaf=0.0,\n",
       "                      n_estimators=100, n_jobs=None, oob_score=False,\n",
       "                      random_state=None, verbose=0, warm_start=False)"
      ]
     },
     "execution_count": 140,
     "metadata": {},
     "output_type": "execute_result"
    }
   ],
   "source": [
    "model_rfr.best_estimator_"
   ]
  },
  {
   "cell_type": "code",
   "execution_count": 144,
   "metadata": {},
   "outputs": [
    {
     "name": "stdout",
     "output_type": "stream",
     "text": [
      "MAE for Decision Tree Regression: 7.635512596032477\n",
      "MSE for Decision Tree Regression: 98.49768284343183\n",
      "Rˆ2 for Decision Tree Regression: 0.5995698305865005\n"
     ]
    }
   ],
   "source": [
    "y_pred_train_dtr = model_dtr.best_estimator_.predict(X_train)\n",
    "\n",
    "print(f\"MAE for Decision Tree Regression on training set: {mean_absolute_error(y_train, y_pred_train_dtr)}\")\n",
    "print(f\"MSE for Decision Tree Regression on training set: {mean_squared_error(y_train, y_pred_train_dtr)}\")\n",
    "print(f\"Rˆ2 for Decision Tree Regression on training set: {r2_score(y_train, y_pred_train_dtr)}\")"
   ]
  },
  {
   "cell_type": "code",
   "execution_count": 145,
   "metadata": {},
   "outputs": [
    {
     "name": "stdout",
     "output_type": "stream",
     "text": [
      "MAE for Random Forest Regression on training set: 7.006710152085295\n",
      "MSE for Random Forest Regression on training set: 81.52532795197362\n",
      "Rˆ2 for Random Forest Regression on training set: 0.6685688440489359\n"
     ]
    }
   ],
   "source": [
    "y_pred_train_rfr = model_rfr.best_estimator_.predict(X_train)\n",
    "\n",
    "print(f\"MAE for Random Forest Regression on training set: {mean_absolute_error(y_train, y_pred_train_rfr)}\")\n",
    "print(f\"MSE for Random Forest Regression on training set: {mean_squared_error(y_train, y_pred_train_rfr)}\")\n",
    "print(f\"Rˆ2 for Random Forest Regression on training set: {r2_score(y_train, y_pred_train_rfr)}\")"
   ]
  },
  {
   "cell_type": "code",
   "execution_count": null,
   "metadata": {},
   "outputs": [],
   "source": []
  }
 ],
 "metadata": {
  "kernelspec": {
   "display_name": "Python 3",
   "language": "python",
   "name": "python3"
  },
  "language_info": {
   "codemirror_mode": {
    "name": "ipython",
    "version": 3
   },
   "file_extension": ".py",
   "mimetype": "text/x-python",
   "name": "python",
   "nbconvert_exporter": "python",
   "pygments_lexer": "ipython3",
   "version": "3.7.6"
  }
 },
 "nbformat": 4,
 "nbformat_minor": 4
}
