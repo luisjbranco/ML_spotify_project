{
 "cells": [
  {
   "cell_type": "markdown",
   "id": "011622f1",
   "metadata": {},
   "source": [
    "# Project 11: Rocknomics Group 22"
   ]
  },
  {
   "cell_type": "markdown",
   "id": "c7dbca83",
   "metadata": {},
   "source": [
    "## Group members:\n",
    "- Maria Inês Diogo Ferreira – 50465\n",
    "- Rômulo de Vasconcelos Feijão Filho – 50530\n",
    "- Yannick Schad – 51034\n",
    "- Tim Pleuger - 50487\n",
    "- Luis Branco - 50409\n"
   ]
  },
  {
   "cell_type": "markdown",
   "id": "a8542fc2",
   "metadata": {},
   "source": [
    "## Business Context"
   ]
  },
  {
   "cell_type": "markdown",
   "id": "b31b6b80",
   "metadata": {},
   "source": [
    "### Business Problem"
   ]
  },
  {
   "cell_type": "markdown",
   "id": "a5945fcc",
   "metadata": {},
   "source": [
    "The music market has changed a lot in the last two decades. Consumers are no longer willing to spend so much money to listen to music. This development has made the market more unpredictable and vulnerable. Artists and music labels have had to look for new sources of income on the one hand, and on the other hand, they are more dependent on the success of their released songs.  Especially concerning the release of new albums, artists mostly face a sitation, in which only a couple of songs get very popular and listened by a lot of consumers. Despite to that, artists and songwriters still invest a lot of time and money into each song of an album, even though the return in terms of number of streams or amount of revenue per song varies a lot. Thats why it would be very helpful for music creators to know in advance on what the popularity of a song is dependend on and according to that, include certain attributes within the lyrics or the beat for example. It could allow the music industry for better planning and more security, because a higher popularity of a song is synonymous with a higher number of streams, which in the end results in higher revenues and more royalites for the artists themselves. "
   ]
  },
  {
   "cell_type": "markdown",
   "id": "5ca62087",
   "metadata": {},
   "source": [
    "### Main objective"
   ]
  },
  {
   "cell_type": "markdown",
   "id": "8ad0d0a3",
   "metadata": {},
   "source": [
    "**This project aims to predict the popularity of a song given our available data, which is going to be explained in the following**"
   ]
  },
  {
   "cell_type": "markdown",
   "id": "38c909a6",
   "metadata": {},
   "source": [
    "### Datasets"
   ]
  },
  {
   "cell_type": "markdown",
   "id": "fce405f7",
   "metadata": {},
   "source": [
    "To solve this problem, a dataset of 175,000 songs from 1921 to 2020 is available from the Spotify Web API. The records are divided into \"data_sources\" and \"extracted_features\". In \"data_sources\" there are three data sets: \"albums\", \"artist\", \"tracks\". In \"extracted_features\" there are two data sets: \"lyrics_feature\" and \"low_level_audio_features\". Bellow, you will find an overview of our a available datasets as well as its containing features."
   ]
  },
  {
   "cell_type": "markdown",
   "id": "a80657eb",
   "metadata": {},
   "source": [
    "![features_overview.jpg](features_overview.jpg)"
   ]
  },
  {
   "cell_type": "markdown",
   "id": "f8ba70be",
   "metadata": {},
   "source": [
    "Regarding the table of **\"lyrics_features\"**, we face the variable of \"track_id\", which helps us to merge our single datasets into one, since the same variable is present in every other datatable, except for one. Out of this data we will check, whether certain features such as \"mean_syllables_word\" does have an influence on the popularity of a song or not.\n",
    "\n",
    "Next the **\"low_level_audio_features\"**. The variables contained are not very self-explanatory, since they have names such as \"Chroma 1\" or \"MFCC_1\". So on the first look it can be quit challenging to find out, whether these features have any kind of influence on a popularity of a song or not. We will examine on that by checking these correlations to our target variable in the EDA part.\n",
    "\n",
    "Coming to the data_sources tables. The **\"album dataset\"** contains specific information about a released album. From this dataset, on the one hand, we just try to keep information, which can be helpful for our analysis part. Examples for this are the album_type or available markets. On the other hand, we can get rid of information, which certainly do not have any impact on our popularity, for instance \"external_urls\".\n",
    "\n",
    "Further, the **\"artists\"** table contains certain details about the artists themselves, such as the number of followers, the applicable genres or even the artist_popularity. \n",
    "\n",
    "Lastly we have the **\"tracks\"** dataset. This data does not contain the \"track_id\" variable, so that we needed to find out another variable, which allows us to merge our datasets. It can either be the \"artist_id\" which is equal to the variable \"id\" from the artists dataset or taking the album_id as well as the artist_id, which can be found in the other datasources. Additionally, our target variable \"popularity\" is contained in this dataset. This table contains our main variables of interest for the tracks, however in order to complement the datsets we should use the track id in order to get more variables from the other tables. "
   ]
  },
  {
   "cell_type": "markdown",
   "id": "855f12c1",
   "metadata": {},
   "source": [
    "In our analysis, first, an exploratory data analysis is performed to understand and summarize the data set. The dependent variable is popularity, which can range from 0 to 100. Next, we check whether certain features are relevant to complement our main table. After that checking, the correlations to find out the most relevant contribution to the defined objective. \n",
    "\n",
    "There is no data dictionary for the data set; it must be to find out yourself. The three datasets from \"data_source\" on a specific 'key'  is merged to fulfil the dataset and have enough information available.\n"
   ]
  },
  {
   "cell_type": "markdown",
   "id": "4cd1718d",
   "metadata": {},
   "source": [
    "### Applicability of Machine Learning "
   ]
  },
  {
   "cell_type": "markdown",
   "id": "1c9a0ac1",
   "metadata": {},
   "source": [
    "To frame the problem and qualify if machine learning is needed for the project, we applied the \"ML Recipe\" from the second lecture (slides 4 -10). \n",
    "\n",
    "1. Do you need machine learning? \n",
    "\n",
    "    First, we have a very high complexity of rules; the dataset has over 175,000 songs with many different features. Second, the features are complex and ambiguous and have a large problem scale. These two factors must be present to solve a problem with machine learning.  \n",
    "    The large data set has many variables that could influence the popularity of its song. This problem cannot be solved by hand. Therefore machine learning is applicable in this case. \n",
    "    \n",
    "    \n",
    "    \n",
    "2. Can you formulate your problem clearly?\n",
    "\n",
    "    The benefit for artists or music labels is knowing whether a song will be popular and which features are crucial for it, and how. \n",
    "    The goal will be to take the selected features as input and use them to predict a song's popularity (output). \n",
    "    \n",
    "    In this case, the problem is that we do not know which features impact our target (song popularity). We also do not know how significant the influence of individual features is. We can find out with the help of data analysis and different machine learning models.\n",
    "    \n",
    "    \n",
    "3. Do you have sufficient data?\n",
    "\n",
    "    We have sufficient and right data to solve the problem: 175.000 songs between 1921-2020 collected from Spotify Web API, and also you can find data grouped by artist, year, or genre in the data section. The audio features and track features are also included \n",
    "    \n",
    "    \n",
    "4. Does your problem have a regular pattern?\n",
    "\n",
    "    To get a regular pattern, we check the correlation between features. The highest correlation to \"Song Popularity\" is \" Artist Popularity\". \n",
    "    \n",
    "    \n",
    "5. Can you find meaningful representations of your data? \n",
    "\n",
    "    Selected features: tbd\n",
    "    \n",
    "    \n",
    "6. How do you define success?\n",
    "\n",
    "    Evaluation function should predict if popularity is high enough and artist or music label should release the song. With the help of machine learning, the optimize a training criteria should be used in this regression problem. And thereby we try to minimize the error.\n",
    "    \n",
    "    Defined evaluation criterias: \n",
    "        MAE: >=7 \n",
    "        MSE: >=85 \n",
    "        R^2: >=0.6 "
   ]
  },
  {
   "cell_type": "code",
   "execution_count": null,
   "id": "f0ff5061",
   "metadata": {},
   "outputs": [],
   "source": []
  },
  {
   "cell_type": "code",
   "execution_count": null,
   "id": "f8bcce70",
   "metadata": {},
   "outputs": [],
   "source": []
  }
 ],
 "metadata": {
  "kernelspec": {
   "display_name": "Python 3 (ipykernel)",
   "language": "python",
   "name": "python3"
  },
  "language_info": {
   "codemirror_mode": {
    "name": "ipython",
    "version": 3
   },
   "file_extension": ".py",
   "mimetype": "text/x-python",
   "name": "python",
   "nbconvert_exporter": "python",
   "pygments_lexer": "ipython3",
   "version": "3.7.12"
  }
 },
 "nbformat": 4,
 "nbformat_minor": 5
}
