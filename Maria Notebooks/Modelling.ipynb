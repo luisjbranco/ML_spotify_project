{
 "cells": [
  {
   "cell_type": "code",
   "execution_count": 8,
   "id": "a3f60f09",
   "metadata": {},
   "outputs": [],
   "source": [
    "# Necessary packages\n",
    "import pandas as pd\n",
    "import numpy as np\n",
    "from sklearn.model_selection import train_test_split\n",
    "from sklearn import linear_model\n",
    "from sklearn.metrics import mean_absolute_error, mean_squared_error, r2_score\n",
    "from sklearn.model_selection import KFold\n",
    "from sklearn.model_selection import cross_validate"
   ]
  },
  {
   "cell_type": "code",
   "execution_count": 2,
   "id": "1352ea67",
   "metadata": {},
   "outputs": [],
   "source": [
    "spotifyDF = pd.read_csv(\"spotify_df.csv\").set_index(\"track_id\")"
   ]
  },
  {
   "cell_type": "code",
   "execution_count": 49,
   "id": "1ed9feab",
   "metadata": {},
   "outputs": [],
   "source": [
    "# Selecting only top 15 highly correlated features with popularity\n",
    "corr = spotifyDF.corr().abs()\n",
    "popularity_corr = corr[[\"popularity\"]]\n",
    "popularity_corr = popularity_corr.sort_values(by=[\"popularity\"], ascending=False)\n",
    "top15Features = popularity_corr.iloc[1:16].index.values.tolist()"
   ]
  },
  {
   "cell_type": "code",
   "execution_count": 50,
   "id": "e7a62dc3",
   "metadata": {
    "scrolled": true
   },
   "outputs": [],
   "source": [
    "X = spotifyDF.loc[:, top15Features]\n",
    "Y = spotifyDF[[\"popularity\"]]"
   ]
  },
  {
   "cell_type": "code",
   "execution_count": 51,
   "id": "187908a8",
   "metadata": {
    "scrolled": true
   },
   "outputs": [
    {
     "name": "stdout",
     "output_type": "stream",
     "text": [
      "MAE: 7.2395\n",
      "MSE: 84.5565\n",
      "R^2: 0.6345\n"
     ]
    }
   ],
   "source": [
    "# Linear Regression Model\n",
    "\n",
    "X_train, X_test, Y_train, Y_test = train_test_split(X, Y, test_size=0.2)\n",
    "model = linear_model.LinearRegression()\n",
    "model.fit(X_train, Y_train)\n",
    "Y_pred_test = model.predict(X_test)\n",
    "print(\"MAE: %.4f\"\n",
    "      % mean_absolute_error(Y_test, Y_pred_test))\n",
    "print(\"MSE: %.4f\"\n",
    "      % mean_squared_error(Y_test, Y_pred_test))\n",
    "print(\"R^2: %.4f\"\n",
    "      % r2_score(Y_test, Y_pred_test))"
   ]
  },
  {
   "cell_type": "code",
   "execution_count": 52,
   "id": "48362289",
   "metadata": {},
   "outputs": [
    {
     "name": "stdout",
     "output_type": "stream",
     "text": [
      "MAE: 7.3019\n",
      "MSE: 87.3670\n",
      "R^2: 0.5933\n"
     ]
    }
   ],
   "source": [
    "# Linear Regression Model w/ K-Fold\n",
    "\n",
    "cv = KFold(n_splits=10)\n",
    "scoring = [\"neg_mean_absolute_error\", \"neg_mean_squared_error\", \"r2\"]\n",
    "scores = cross_validate(model, X, Y, scoring=scoring, cv=cv)\n",
    "print(\"MAE: %.4f\" %-np.mean(scores[\"test_neg_mean_absolute_error\"]))\n",
    "print(\"MSE: %.4f\" %-np.mean(scores[\"test_neg_mean_squared_error\"]))\n",
    "print(\"R^2: %.4f\" %np.mean(scores[\"test_r2\"]))"
   ]
  },
  {
   "cell_type": "code",
   "execution_count": null,
   "id": "c9472c0f",
   "metadata": {},
   "outputs": [],
   "source": [
    "# DecisionTree Regression Model"
   ]
  }
 ],
 "metadata": {
  "kernelspec": {
   "display_name": "Python 3 (ipykernel)",
   "language": "python",
   "name": "python3"
  },
  "language_info": {
   "codemirror_mode": {
    "name": "ipython",
    "version": 3
   },
   "file_extension": ".py",
   "mimetype": "text/x-python",
   "name": "python",
   "nbconvert_exporter": "python",
   "pygments_lexer": "ipython3",
   "version": "3.9.7"
  }
 },
 "nbformat": 4,
 "nbformat_minor": 5
}
